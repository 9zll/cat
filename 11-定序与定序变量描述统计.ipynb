{
 "cells": [
  {
   "cell_type": "code",
   "execution_count": 19,
   "metadata": {},
   "outputs": [],
   "source": [
    "# 双变量描述统计指标是相关系数，相关系数有很多种。选择标准有三：\n",
    "    # 1. 测量层次\n",
    "    # 2. 是否对称\n",
    "    # 3. 是否具有消除误差比例的意义\n",
    "    # 定序与定序变量的相关系数很多,优先选择Tau_y系数。\""
   ]
  },
  {
   "cell_type": "code",
   "execution_count": 20,
   "metadata": {},
   "outputs": [],
   "source": [
    "import mytools\n",
    "import pandas as pd\n",
    "from pyreadstat import pyreadstat\n",
    "国家认同原始数据, meta = mytools.读取SPSS数据(R'data/identity.sav')"
   ]
  },
  {
   "cell_type": "code",
   "execution_count": 21,
   "metadata": {},
   "outputs": [
    {
     "data": {
      "text/plain": [
       "(0.047734885583483926,)"
      ]
     },
     "execution_count": 21,
     "metadata": {},
     "output_type": "execute_result"
    }
   ],
   "source": [
    "tau_y = mytools.goodmanKruska_tau_y(国家认同原始数据,'年级','政治面貌'),\n",
    "tau_y\n"
   ]
  },
  {
   "cell_type": "code",
   "execution_count": 25,
   "metadata": {},
   "outputs": [
    {
     "ename": "TypeError",
     "evalue": "'>=' not supported between instances of 'tuple' and 'float'",
     "output_type": "error",
     "traceback": [
      "\u001b[1;31m---------------------------------------------------------------------------\u001b[0m",
      "\u001b[1;31mTypeError\u001b[0m                                 Traceback (most recent call last)",
      "\u001b[1;32mc:\\Users\\86182\\Desktop\\cat\\11-定序与定序变量描述统计.ipynb 单元格 4\u001b[0m line \u001b[0;36m1\n\u001b[1;32m----> <a href='vscode-notebook-cell:/c%3A/Users/86182/Desktop/cat/11-%E5%AE%9A%E5%BA%8F%E4%B8%8E%E5%AE%9A%E5%BA%8F%E5%8F%98%E9%87%8F%E6%8F%8F%E8%BF%B0%E7%BB%9F%E8%AE%A1.ipynb#W3sZmlsZQ%3D%3D?line=0'>1</a>\u001b[0m mytools\u001b[39m.\u001b[39;49m相关系数强弱判断(tau_y)\n",
      "File \u001b[1;32mc:\\Users\\86182\\Desktop\\cat\\mytools.py:99\u001b[0m, in \u001b[0;36m相关系数强弱判断\u001b[1;34m(相关系数值)\u001b[0m\n\u001b[0;32m     97\u001b[0m \u001b[39mdef\u001b[39;00m \u001b[39m相关系数强弱判断\u001b[39m(相关系数值):\n\u001b[0;32m     98\u001b[0m \u001b[39m    \u001b[39m\u001b[39m\"\"\" 相关系数强弱的判断 \"\"\"\u001b[39;00m\n\u001b[1;32m---> 99\u001b[0m     \u001b[39mif\u001b[39;00m 相关系数值 \u001b[39m>\u001b[39;49m\u001b[39m=\u001b[39;49m \u001b[39m0.8\u001b[39;49m:\n\u001b[0;32m    100\u001b[0m         \u001b[39mreturn\u001b[39;00m \u001b[39m'\u001b[39m\u001b[39m极强相关\u001b[39m\u001b[39m'\u001b[39m\n\u001b[0;32m    101\u001b[0m     \u001b[39melif\u001b[39;00m 相关系数值 \u001b[39m>\u001b[39m\u001b[39m=\u001b[39m \u001b[39m0.6\u001b[39m:\n",
      "\u001b[1;31mTypeError\u001b[0m: '>=' not supported between instances of 'tuple' and 'float'"
     ]
    }
   ],
   "source": [
    "mytools.相关系数强弱判断(tau_y)\n"
   ]
  },
  {
   "cell_type": "code",
   "execution_count": 24,
   "metadata": {},
   "outputs": [
    {
     "data": {
      "text/plain": [
       "\"mytools.制作交叉表(国家认同原始数据,'政治面貌','年级')\""
      ]
     },
     "execution_count": 24,
     "metadata": {},
     "output_type": "execute_result"
    }
   ],
   "source": [
    "\"mytools.制作交叉表(国家认同原始数据,'政治面貌','年级')\"\n"
   ]
  }
 ],
 "metadata": {
  "kernelspec": {
   "display_name": "Python 3",
   "language": "python",
   "name": "python3"
  },
  "language_info": {
   "codemirror_mode": {
    "name": "ipython",
    "version": 3
   },
   "file_extension": ".py",
   "mimetype": "text/x-python",
   "name": "python",
   "nbconvert_exporter": "python",
   "pygments_lexer": "ipython3",
   "version": "3.8.10"
  }
 },
 "nbformat": 4,
 "nbformat_minor": 2
}
