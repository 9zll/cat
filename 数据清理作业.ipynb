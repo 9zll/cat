{
 "cells": [
  {
   "cell_type": "code",
   "execution_count": 13,
   "metadata": {},
   "outputs": [],
   "source": [
    "import mytools"
   ]
  },
  {
   "cell_type": "code",
   "execution_count": 14,
   "metadata": {},
   "outputs": [],
   "source": [
    "数据表 = mytools.读取SPSS数据文件(R'data\\identity.sav')"
   ]
  },
  {
   "cell_type": "code",
   "execution_count": 25,
   "metadata": {},
   "outputs": [],
   "source": [
    "# 空白值处理\n",
    "数据表.dropna( how='any',inplace=True)"
   ]
  },
  {
   "cell_type": "code",
   "execution_count": 16,
   "metadata": {},
   "outputs": [
    {
     "data": {
      "text/plain": [
       "Index(['问卷编号', '调查员', '民族', '政治面貌', '年级', '典型中国人', '中国人特点', 'v1', 'v2', 'v3',\n",
       "       'v4', '你是否了解重活民族的传统节日', 'v5', '您觉得中国怎么样', '您认为中国有多少值得自豪的地方',\n",
       "       '您认为世界有多少比例的人尊重中国', '对您而言作为一名中国人有多重要', '会以中国人自豪吗', '会隐瞒身份吗', '会打多少分',\n",
       "       '国歌升起', '世博会', '中国传统文化', '发展信心', '你会为中国运动员呐喊助威', '遇到灾难时中国人应该伸出援手',\n",
       "       '你愿意加入其他国籍吗', '中国人要为祖国统一奋斗吗'],\n",
       "      dtype='object')"
      ]
     },
     "execution_count": 16,
     "metadata": {},
     "output_type": "execute_result"
    }
   ],
   "source": [
    "# 异常值\n",
    "数据表.columns"
   ]
  },
  {
   "cell_type": "code",
   "execution_count": 17,
   "metadata": {},
   "outputs": [
    {
     "data": {
      "text/plain": [
       "v1\n",
       "完全同意     360\n",
       "同意       346\n",
       "有点同意     111\n",
       "不同意       30\n",
       "完全不同意     18\n",
       "Name: count, dtype: int64"
      ]
     },
     "execution_count": 17,
     "metadata": {},
     "output_type": "execute_result"
    }
   ],
   "source": [
    "数据表.v1.value_counts()"
   ]
  },
  {
   "cell_type": "code",
   "execution_count": 18,
   "metadata": {},
   "outputs": [],
   "source": [
    "# 删除重复值\n",
    "数据表.drop_duplicates(subset=['问卷编号'],keep='first',inplace=True)"
   ]
  },
  {
   "cell_type": "code",
   "execution_count": 19,
   "metadata": {},
   "outputs": [
    {
     "data": {
      "text/plain": [
       "问卷编号                 float64\n",
       "调查员                   object\n",
       "民族                  category\n",
       "政治面貌                category\n",
       "年级                  category\n",
       "典型中国人               category\n",
       "中国人特点               category\n",
       "v1                  category\n",
       "v2                  category\n",
       "v3                  category\n",
       "v4                  category\n",
       "你是否了解重活民族的传统节日      category\n",
       "v5                  category\n",
       "您觉得中国怎么样            category\n",
       "您认为中国有多少值得自豪的地方     category\n",
       "您认为世界有多少比例的人尊重中国    category\n",
       "对您而言作为一名中国人有多重要     category\n",
       "会以中国人自豪吗            category\n",
       "会隐瞒身份吗              category\n",
       "会打多少分               category\n",
       "国歌升起                category\n",
       "世博会                 category\n",
       "中国传统文化              category\n",
       "发展信心                category\n",
       "你会为中国运动员呐喊助威        category\n",
       "遇到灾难时中国人应该伸出援手      category\n",
       "你愿意加入其他国籍吗          category\n",
       "中国人要为祖国统一奋斗吗        category\n",
       "dtype: object"
      ]
     },
     "execution_count": 19,
     "metadata": {},
     "output_type": "execute_result"
    }
   ],
   "source": [
    "\n",
    "数据表.dtypes"
   ]
  },
  {
   "cell_type": "code",
   "execution_count": 20,
   "metadata": {},
   "outputs": [
    {
     "data": {
      "text/plain": [
       "您觉得中国怎么样\n",
       "挺好     473\n",
       "一般般    196\n",
       "十分棒    141\n",
       "较差      38\n",
       "很差劲     15\n",
       "Name: count, dtype: int64"
      ]
     },
     "execution_count": 20,
     "metadata": {},
     "output_type": "execute_result"
    }
   ],
   "source": [
    "# 逻辑一致性清理\n",
    "数据表.您觉得中国怎么样.value_counts()"
   ]
  },
  {
   "cell_type": "code",
   "execution_count": 21,
   "metadata": {},
   "outputs": [
    {
     "data": {
      "text/plain": [
       "您认为中国有多少值得自豪的地方\n",
       "很多     396\n",
       "特别多    195\n",
       "有一些    194\n",
       "很少      64\n",
       "特别少     14\n",
       "Name: count, dtype: int64"
      ]
     },
     "execution_count": 21,
     "metadata": {},
     "output_type": "execute_result"
    }
   ],
   "source": [
    "数据表.您认为中国有多少值得自豪的地方.value_counts()"
   ]
  },
  {
   "cell_type": "code",
   "execution_count": 22,
   "metadata": {},
   "outputs": [],
   "source": [
    "# 根据上述变量，完成逻辑一致性检验，删除逻辑上存在矛盾的数据。"
   ]
  },
  {
   "cell_type": "code",
   "execution_count": 23,
   "metadata": {},
   "outputs": [
    {
     "name": "stdout",
     "output_type": "stream",
     "text": [
      "Index([ 69, 183, 184, 294, 347, 374, 394, 412, 448, 467, 498, 561, 566, 595,\n",
      "       612, 615, 625, 643, 742, 745, 757, 769, 777, 813, 819, 824, 829, 836,\n",
      "       843, 848],\n",
      "      dtype='int64')\n"
     ]
    }
   ],
   "source": [
    "import pandas\n",
    "\n",
    "# 打开SPSS文件\n",
    "df_raw = pandas.read_spss(r'data\\identity.sav')\n",
    "\n",
    "# 使用query\n",
    "condition = '会以中国人自豪吗==\"会\" and 会隐瞒身份吗==\"一定会\"'\n",
    "\n",
    "# 取得逻辑不一致数据的序号列表\n",
    "result = df_raw.query(condition).index\n",
    "print(result)\n",
    "# 使用drop函数删除指定\n",
    "df_raw.drop(index=result,inplace=True)"
   ]
  },
  {
   "cell_type": "code",
   "execution_count": 24,
   "metadata": {},
   "outputs": [],
   "source": [
    "condition =' 会以中国人自豪吗==”会”and 会隐瞒身份吗==\"一定会”'"
   ]
  }
 ],
 "metadata": {
  "kernelspec": {
   "display_name": "Python 3",
   "language": "python",
   "name": "python3"
  },
  "language_info": {
   "codemirror_mode": {
    "name": "ipython",
    "version": 3
   },
   "file_extension": ".py",
   "mimetype": "text/x-python",
   "name": "python",
   "nbconvert_exporter": "python",
   "pygments_lexer": "ipython3",
   "version": "3.8.10"
  }
 },
 "nbformat": 4,
 "nbformat_minor": 2
}
